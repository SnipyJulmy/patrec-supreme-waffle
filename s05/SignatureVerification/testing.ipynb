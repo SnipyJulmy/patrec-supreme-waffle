{
 "cells": [
  {
   "cell_type": "code",
   "execution_count": 21,
   "metadata": {},
   "outputs": [],
   "source": [
    "import numpy as np\n",
    "from dtw import DTW\n",
    "import itertools"
   ]
  },
  {
   "cell_type": "code",
   "execution_count": 2,
   "metadata": {},
   "outputs": [],
   "source": [
    "users = np.loadtxt('users.txt',dtype=str)"
   ]
  },
  {
   "cell_type": "code",
   "execution_count": 3,
   "metadata": {},
   "outputs": [
    {
     "name": "stdout",
     "output_type": "stream",
     "text": [
      "['001' '002' '003' '004' '005' '006' '007' '008' '009' '010' '011' '012'\n",
      " '013' '014' '015' '016' '017' '018' '019' '020' '021' '022' '023' '024'\n",
      " '025' '026' '027' '028' '029' '030']\n"
     ]
    }
   ],
   "source": [
    "print(users)"
   ]
  },
  {
   "cell_type": "code",
   "execution_count": 4,
   "metadata": {},
   "outputs": [],
   "source": [
    "users_enrollment = {}\n",
    "for user in users:\n",
    "    for i in range(1,6):\n",
    "        value = str(i)\n",
    "        if i < 10:\n",
    "            value = '0'+str(i)\n",
    "        user_data = np.loadtxt('enrollment/'+user+'-g-'+value+'.txt')\n",
    "        if user not in users_enrollment:\n",
    "            users_enrollment[user] = []\n",
    "        users_enrollment[user].append(user_data)\n",
    "        "
   ]
  },
  {
   "cell_type": "code",
   "execution_count": 5,
   "metadata": {},
   "outputs": [],
   "source": [
    "def get_features(signature):\n",
    "    features = []\n",
    "    i = 0\n",
    "    for sign in signature:\n",
    "        x = sign[1]\n",
    "        y = sign[2]\n",
    "        pressure = sign[3]\n",
    "        if i == 0:\n",
    "            vx = 0\n",
    "            vy = 0\n",
    "        else:\n",
    "            vx = x - signature[i-1][1]\n",
    "            vy = y - signature[i-1][2]\n",
    "        feature = np.array([x, y, vx, vy, pressure])\n",
    "        features.append(feature)\n",
    "        i =+ 1\n",
    "    return features"
   ]
  },
  {
   "cell_type": "code",
   "execution_count": 6,
   "metadata": {},
   "outputs": [],
   "source": [
    "features = get_features(users_enrollment[users[0]][0])"
   ]
  },
  {
   "cell_type": "code",
   "execution_count": 7,
   "metadata": {},
   "outputs": [],
   "source": [
    "users_enrollment_features = {}\n",
    "for user,signatures in users_enrollment.items():\n",
    "    users_enrollment_features[user] = []\n",
    "    for signature in signatures:\n",
    "        features = get_features(signature)\n",
    "        users_enrollment_features[user].append(features)"
   ]
  },
  {
   "cell_type": "code",
   "execution_count": 8,
   "metadata": {},
   "outputs": [],
   "source": [
    "dtw = DTW(users_enrollment_features['001'][0])"
   ]
  },
  {
   "cell_type": "code",
   "execution_count": 20,
   "metadata": {},
   "outputs": [
    {
     "data": {
      "text/plain": [
       "32071.310090925628"
      ]
     },
     "execution_count": 20,
     "metadata": {},
     "output_type": "execute_result"
    }
   ],
   "source": [
    "dtw.calculate_cost(users_enrollment_features['002'][0])"
   ]
  },
  {
   "cell_type": "code",
   "execution_count": 33,
   "metadata": {},
   "outputs": [
    {
     "name": "stdout",
     "output_type": "stream",
     "text": [
      "5732.8569713675315\n"
     ]
    }
   ],
   "source": [
    "dtw = None\n",
    "scores = []\n",
    "for a, b in itertools.combinations(users_enrollment_features['001'], 2):\n",
    "    if dtw == None:\n",
    "        dtw = DTW(a)\n",
    "    if not np.array_equal(a,dtw.features):\n",
    "        dtw = DTW(a)\n",
    "    scores.append(dtw.calculate_cost(b))\n",
    "print(np.mean(scores))"
   ]
  },
  {
   "cell_type": "code",
   "execution_count": null,
   "metadata": {},
   "outputs": [],
   "source": []
  }
 ],
 "metadata": {
  "kernelspec": {
   "display_name": "Python 3",
   "language": "python",
   "name": "python3"
  },
  "language_info": {
   "codemirror_mode": {
    "name": "ipython",
    "version": 3
   },
   "file_extension": ".py",
   "mimetype": "text/x-python",
   "name": "python",
   "nbconvert_exporter": "python",
   "pygments_lexer": "ipython3",
   "version": "3.7.1"
  }
 },
 "nbformat": 4,
 "nbformat_minor": 2
}
