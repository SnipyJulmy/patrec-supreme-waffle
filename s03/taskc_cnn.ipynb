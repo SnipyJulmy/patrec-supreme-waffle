{
 "cells": [
  {
   "cell_type": "code",
   "execution_count": null,
   "metadata": {},
   "outputs": [],
   "source": [
    "import torch\n",
    "from torchvision.transforms import ToTensor, Normalize, Compose\n",
    "from torchvision import datasets, transforms\n",
    "import torch.optim as optim\n",
    "import torch.nn.functional as F"
   ]
  },
  {
   "cell_type": "code",
   "execution_count": null,
   "metadata": {},
   "outputs": [],
   "source": [
    "import torch.nn as nn\n",
    "class Flatten(nn.Module):\n",
    "    def forward(self, x):\n",
    "        x = x.view(x.size()[0], -1)\n",
    "        return x"
   ]
  },
  {
   "cell_type": "code",
   "execution_count": null,
   "metadata": {},
   "outputs": [],
   "source": [
    "class PR_CNN(nn.Module):\n",
    "    def __init__(self, **kwargs):\n",
    "        super(PR_CNN, self).__init__()\n",
    "        self.expected_input_size = kwargs.get('input_dim', None)\n",
    "\n",
    "        # First layer\n",
    "        self.conv1 = nn.Sequential(\n",
    "            nn.Conv2d(in_channels=kwargs.get('input_channels', None),\n",
    "                      out_channels=kwargs.get('input_channels', None)*5,\n",
    "                      kernel_size=4,\n",
    "                      stride=3),\n",
    "            nn.LeakyReLU()\n",
    "        )\n",
    "        # Second layer\n",
    "        self.conv2 = nn.Sequential(\n",
    "            nn.Conv2d(in_channels=kwargs.get('input_channels', None)*5,\n",
    "                      out_channels=kwargs.get('input_channels', None)*25,\n",
    "                      kernel_size=4,\n",
    "                      stride=3),\n",
    "            nn.LeakyReLU()\n",
    "        )\n",
    "        # Third layer\n",
    "        self.conv3 = nn.Sequential(\n",
    "            nn.Conv2d(in_channels=kwargs.get('input_channels', None)*25,\n",
    "                      out_channels=1536,\n",
    "                      kernel_size=4,\n",
    "                      stride=3),\n",
    "            nn.LeakyReLU()\n",
    "        )\n",
    "        \n",
    "\n",
    "        # Classification layer\n",
    "        self.fc = nn.Sequential(\n",
    "            Flatten(),\n",
    "            nn.Linear(1536, kwargs.get('output_channels', None))\n",
    "        )\n",
    "\n",
    "    def forward(self, x):\n",
    "        x = self.conv1(x)\n",
    "        x = self.conv2(x)\n",
    "        x = self.conv3(x)\n",
    "        x = self.fc(x)\n",
    "        return x"
   ]
  }
 ],
 "metadata": {
  "kernelspec": {
   "display_name": "Python 3",
   "language": "python",
   "name": "python3"
  },
  "language_info": {
   "codemirror_mode": {
    "name": "ipython",
    "version": 3
   },
   "file_extension": ".py",
   "mimetype": "text/x-python",
   "name": "python",
   "nbconvert_exporter": "python",
   "pygments_lexer": "ipython3",
   "version": "3.6.4"
  }
 },
 "nbformat": 4,
 "nbformat_minor": 2
}
