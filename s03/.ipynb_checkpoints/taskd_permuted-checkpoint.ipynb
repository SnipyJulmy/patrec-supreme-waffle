{
 "cells": [
  {
   "cell_type": "code",
   "execution_count": null,
   "metadata": {},
   "outputs": [],
   "source": [
    "import torch\n",
    "from torchvision.transforms import ToTensor, Normalize, Compose\n",
    "from torchvision import datasets, transforms\n",
    "import torch.optim as optim\n",
    "import torch.nn.functional as F\n",
    "import matplotlib.pyplot as plt"
   ]
  },
  {
   "cell_type": "code",
   "execution_count": null,
   "metadata": {},
   "outputs": [],
   "source": [
    "import torch.nn as nn\n",
    "class MLPModel(nn.Module):\n",
    "    def __init__(self, input_dim, hidden_dim):\n",
    "        super(MLPModel, self).__init__()\n",
    "        self.layers = nn.Sequential(\n",
    "            nn.Linear(input_dim, hidden_dim),\n",
    "            nn.ReLU(),\n",
    "            nn.Linear(hidden_dim, hidden_dim),\n",
    "            nn.ReLU(),\n",
    "            nn.Linear(hidden_dim, hidden_dim),\n",
    "            nn.ReLU(),\n",
    "            nn.Linear(hidden_dim, 10)\n",
    "        )\n",
    "    \n",
    "    def forward(self, input):\n",
    "        input = input.view(input.size(0), -1)\n",
    "        return self.layers(input)"
   ]
  },
  {
   "cell_type": "code",
   "execution_count": null,
   "metadata": {},
   "outputs": [],
   "source": [
    "class PR_CNN(nn.Module):\n",
    "    def __init__(self, **kwargs):\n",
    "        super(PR_CNN, self).__init__()\n",
    "        self.expected_input_size = kwargs.get('input_dim', None)\n",
    "\n",
    "        # First layer\n",
    "        self.conv1 = nn.Sequential(\n",
    "            nn.Conv2d(in_channels=kwargs.get('input_channels', None),\n",
    "                      out_channels=kwargs.get('input_channels', None)*5,\n",
    "                      kernel_size=3,\n",
    "                      stride=3),\n",
    "            nn.LeakyReLU()\n",
    "        )\n",
    "        # Second layer\n",
    "        self.conv2 = nn.Sequential(\n",
    "            nn.Conv2d(in_channels=kwargs.get('input_channels', None)*5,\n",
    "                      out_channels=kwargs.get('input_channels', None)*25,\n",
    "                      kernel_size=3,\n",
    "                      stride=3),\n",
    "            nn.LeakyReLU()\n",
    "        )\n",
    "        # Third layer\n",
    "        self.conv3 = nn.Sequential(\n",
    "            nn.Conv2d(in_channels=kwargs.get('input_channels', None)*25,\n",
    "                      out_channels=1536,\n",
    "                      kernel_size=3,\n",
    "                      stride=3),\n",
    "            nn.LeakyReLU()\n",
    "        )\n",
    "        \n",
    "\n",
    "        # Classification layer\n",
    "        self.fc = nn.Sequential(\n",
    "            Flatten(),\n",
    "            nn.Linear(1536, kwargs.get('output_channels', None))\n",
    "        )\n",
    "\n",
    "    def forward(self, x):\n",
    "        x = self.conv1(x)\n",
    "        x = self.conv2(x)\n",
    "        x = self.conv3(x)\n",
    "        x = self.fc(x)\n",
    "        return x"
   ]
  },
  {
   "cell_type": "code",
   "execution_count": null,
   "metadata": {},
   "outputs": [],
   "source": [
    "import numpy as np\n",
    "import torch\n",
    "\n",
    "device = torch.device('cuda') if torch.cuda.is_available() else torch.device('cpu')\n",
    "\n",
    "def train(model, train_loader, optimizer, loss_fn, print_every=100):\n",
    "    '''\n",
    "    Trains the model for one epoch\n",
    "    '''\n",
    "    model.train()\n",
    "    losses = []\n",
    "    n_correct = 0\n",
    "    for iteration, (images, labels) in enumerate(train_loader):\n",
    "        images = images.to(device)\n",
    "        labels = labels.to(device)\n",
    "        output = model(images)\n",
    "        optimizer.zero_grad()\n",
    "        loss = loss_fn(output, labels)\n",
    "        loss.backward()\n",
    "        optimizer.step()\n",
    "#         if iteration % print_every == 0:\n",
    "#             print('Training iteration {}: loss {:.4f}'.format(iteration, loss.item()))\n",
    "        losses.append(loss.item())\n",
    "        n_correct += torch.sum(output.argmax(1) == labels).item()\n",
    "    accuracy = 100.0 * n_correct / len(train_loader.dataset)\n",
    "    return np.mean(np.array(losses)), accuracy\n",
    "            \n",
    "def test(model, test_loader, loss_fn):\n",
    "    '''\n",
    "    Tests the model on data from test_loader\n",
    "    '''\n",
    "    model.eval()\n",
    "    test_loss = 0\n",
    "    n_correct = 0\n",
    "    with torch.no_grad():\n",
    "        for images, labels in test_loader:\n",
    "            images = images.to(device)\n",
    "            labels = labels.to(device)\n",
    "            output = model(images)\n",
    "            loss = loss_fn(output, labels)\n",
    "            test_loss += loss.item()\n",
    "            n_correct += torch.sum(output.argmax(1) == labels).item()\n",
    "\n",
    "    average_loss = test_loss / len(test_loader)\n",
    "    accuracy = 100.0 * n_correct / len(test_loader.dataset)\n",
    "#     print('Test average loss: {:.4f}, accuracy: {:.3f}'.format(average_loss, accuracy))\n",
    "    return average_loss, accuracy\n",
    "\n",
    "\n",
    "def fit(train_dataloader, val_dataloader, model, optimizer, loss_fn, n_epochs, scheduler=None):\n",
    "    train_losses, train_accuracies = [], []\n",
    "    val_losses, val_accuracies = [], []\n",
    "\n",
    "    for epoch in range(n_epochs):\n",
    "        train_loss, train_accuracy = train(model, train_dataloader, optimizer, loss_fn)\n",
    "        val_loss, val_accuracy = test(model, val_dataloader, loss_fn)\n",
    "        train_losses.append(train_loss)\n",
    "        train_accuracies.append(train_accuracy)\n",
    "        val_losses.append(val_loss)\n",
    "        val_accuracies.append(val_accuracy)\n",
    "        if scheduler:\n",
    "            scheduler.step() # argument only needed for ReduceLROnPlateau\n",
    "        print('Epoch {}/{}: train_loss: {:.4f}, train_accuracy: {:.4f}, val_loss: {:.4f}, val_accuracy: {:.4f}'.format(epoch+1, n_epochs,\n",
    "                                                                                                          train_losses[-1],\n",
    "                                                                                                          train_accuracies[-1],\n",
    "                                                                                                          val_losses[-1],\n",
    "                                                                                                          val_accuracies[-1]))\n",
    "    \n",
    "    return val_accuracies"
   ]
  },
  {
   "cell_type": "code",
   "execution_count": null,
   "metadata": {},
   "outputs": [],
   "source": [
    "transform_dataset = transforms.Compose([\n",
    "                       transforms.ToTensor(),\n",
    "                       transforms.Normalize((0.1307,), (0.3081,))\n",
    "                   ])"
   ]
  },
  {
   "cell_type": "code",
   "execution_count": null,
   "metadata": {},
   "outputs": [],
   "source": [
    "train_dataset = datasets.ImageFolder('mnist/train',transform=transform_dataset)\n",
    "test_dataset = datasets.ImageFolder('mnist/test',transform=transform_dataset)"
   ]
  },
  {
   "cell_type": "code",
   "execution_count": null,
   "metadata": {},
   "outputs": [],
   "source": [
    "train_loader = torch.utils.data.DataLoader(train_dataset,batch_size=100, shuffle=True)\n",
    "test_loader = torch.utils.data.DataLoader(test_dataset,batch_size=100, shuffle=True)"
   ]
  },
  {
   "cell_type": "code",
   "execution_count": null,
   "metadata": {},
   "outputs": [],
   "source": [
    "train_perm_dataset = datasets.ImageFolder('mnist_permuted/train',transform=transform_dataset)\n",
    "test_perm_dataset = datasets.ImageFolder('mnist_permuted/test',transform=transform_dataset)"
   ]
  },
  {
   "cell_type": "code",
   "execution_count": null,
   "metadata": {},
   "outputs": [],
   "source": [
    "train_perm_loader = torch.utils.data.DataLoader(train_perm_dataset,batch_size=100, shuffle=True)\n",
    "test_perm_loader = torch.utils.data.DataLoader(test_perm_dataset,batch_size=100, shuffle=True)"
   ]
  },
  {
   "cell_type": "code",
   "execution_count": null,
   "metadata": {},
   "outputs": [],
   "source": [
    "nb_epochs = 25\n",
    "hidden_layers = 128\n",
    "learning_rate = 0.001\n",
    "model_mlp = MLPModel(3*28*28, hidden_layers)\n",
    "model_mlp = model_mlp.to(device)\n",
    "optimizer = torch.optim.Adam(model_mlp.parameters(), lr=learning_rate)\n",
    "loss_fn = nn.CrossEntropyLoss()\n",
    "accuracies = fit(train_loader, test_loader, model_mlp, optimizer, loss_fn, nb_epochs)\n",
    "accuracies_perm = fit(train_perm_loader, test_perm_loader, model_mlp, optimizer, loss_fn, nb_epochs)\n",
    "print(\"Accuracy of the MLP with the normal dataset: \", accuracies[-1])\n",
    "print(\"Accuracy of the MLP with the permuted dataset: \", accuracies_perm[-1])       "
   ]
  },
  {
   "cell_type": "code",
   "execution_count": null,
   "metadata": {},
   "outputs": [],
   "source": [
    "# Remplaces par tes valeurs + change le nom du model\n",
    "nb_epochs = 25\n",
    "learning_rate = 0.001\n",
    "pre_defined_kwargs = {'input_dim': (28,28), 'input_channels': 3, 'output_channels': 10}\n",
    "model_cnn = PR_CNN(**pre_defined_kwargs)\n",
    "model_cnn = model_cnn.to(device)\n",
    "optimizer = torch.optim.Adam(model_cnn.parameters(), lr=learning_rate)\n",
    "loss_fn = nn.CrossEntropyLoss()\n",
    "accuracies = fit(train_loader, test_loader, model_cnn, optimizer, loss_fn, nb_epochs)\n",
    "accuracies_perm = fit(train_perm_loader, test_perm_loader, model_cnn, optimizer, loss_fn, nb_epochs)\n",
    "print(\"Accuracy of the CNN with the normal dataset: \", accuracies[-1])\n",
    "print(\"Accuracy of the CNN with the permuted dataset: \", accuracies_perm[-1])   "
   ]
  }
 ],
 "metadata": {
  "kernelspec": {
   "display_name": "Python 3",
   "language": "python",
   "name": "python3"
  },
  "language_info": {
   "codemirror_mode": {
    "name": "ipython",
    "version": 3
   },
   "file_extension": ".py",
   "mimetype": "text/x-python",
   "name": "python",
   "nbconvert_exporter": "python",
   "pygments_lexer": "ipython3",
   "version": "3.6.4"
  }
 },
 "nbformat": 4,
 "nbformat_minor": 2
}
