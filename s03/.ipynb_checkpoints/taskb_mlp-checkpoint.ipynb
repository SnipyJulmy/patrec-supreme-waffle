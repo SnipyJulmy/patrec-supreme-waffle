{
 "cells": [
  {
   "cell_type": "code",
   "execution_count": 3,
   "metadata": {},
   "outputs": [],
   "source": [
    "import torch\n",
    "from torchvision.transforms import ToTensor, Normalize, Compose\n",
    "from torchvision import datasets, transforms\n",
    "import torch.optim as optim\n",
    "import torch.nn.functional as F"
   ]
  },
  {
   "cell_type": "code",
   "execution_count": 4,
   "metadata": {},
   "outputs": [],
   "source": [
    "import torch.nn as nn\n",
    "class MLPModel(nn.Module):\n",
    "    def __init__(self, input_dim, hidden_dim):\n",
    "        super(MLPModel, self).__init__()\n",
    "        self.layers = nn.Sequential(\n",
    "            nn.Linear(input_dim, hidden_dim),\n",
    "            nn.ReLU(),\n",
    "            nn.Linear(hidden_dim, hidden_dim),\n",
    "            nn.ReLU(),\n",
    "            nn.Linear(hidden_dim, hidden_dim),\n",
    "            nn.ReLU(),\n",
    "            nn.Linear(hidden_dim, 10)\n",
    "        )\n",
    "    \n",
    "    def forward(self, input):\n",
    "        input = input.view(input.size(0), -1)\n",
    "        return self.layers(input)"
   ]
  },
  {
   "cell_type": "code",
   "execution_count": 5,
   "metadata": {},
   "outputs": [],
   "source": [
    "import numpy as np\n",
    "import torch\n",
    "\n",
    "device = torch.device('cuda') if torch.cuda.is_available() else torch.device('cpu')\n",
    "\n",
    "def train(model, train_loader, optimizer, loss_fn, print_every=100):\n",
    "    '''\n",
    "    Trains the model for one epoch\n",
    "    '''\n",
    "    model.train()\n",
    "    losses = []\n",
    "    n_correct = 0\n",
    "    for iteration, (images, labels) in enumerate(train_loader):\n",
    "        images = images.to(device)\n",
    "        labels = labels.to(device)\n",
    "        output = model(images)\n",
    "        optimizer.zero_grad()\n",
    "        loss = loss_fn(output, labels)\n",
    "        loss.backward()\n",
    "        optimizer.step()\n",
    "#         if iteration % print_every == 0:\n",
    "#             print('Training iteration {}: loss {:.4f}'.format(iteration, loss.item()))\n",
    "        losses.append(loss.item())\n",
    "        n_correct += torch.sum(output.argmax(1) == labels).item()\n",
    "    accuracy = 100.0 * n_correct / len(train_loader.dataset)\n",
    "    return np.mean(np.array(losses)), accuracy\n",
    "            \n",
    "def test(model, test_loader, loss_fn):\n",
    "    '''\n",
    "    Tests the model on data from test_loader\n",
    "    '''\n",
    "    model.eval()\n",
    "    test_loss = 0\n",
    "    n_correct = 0\n",
    "    with torch.no_grad():\n",
    "        for images, labels in test_loader:\n",
    "            images = images.to(device)\n",
    "            labels = labels.to(device)\n",
    "            output = model(images)\n",
    "            loss = loss_fn(output, labels)\n",
    "            test_loss += loss.item()\n",
    "            n_correct += torch.sum(output.argmax(1) == labels).item()\n",
    "\n",
    "    average_loss = test_loss / len(test_loader)\n",
    "    accuracy = 100.0 * n_correct / len(test_loader.dataset)\n",
    "#     print('Test average loss: {:.4f}, accuracy: {:.3f}'.format(average_loss, accuracy))\n",
    "    return average_loss, accuracy\n",
    "\n",
    "\n",
    "def fit(train_dataloader, val_dataloader, model, optimizer, loss_fn, n_epochs, scheduler=None):\n",
    "    train_losses, train_accuracies = [], []\n",
    "    val_losses, val_accuracies = [], []\n",
    "\n",
    "    for epoch in range(n_epochs):\n",
    "        train_loss, train_accuracy = train(model, train_dataloader, optimizer, loss_fn)\n",
    "        val_loss, val_accuracy = test(model, val_dataloader, loss_fn)\n",
    "        train_losses.append(train_loss)\n",
    "        train_accuracies.append(train_accuracy)\n",
    "        val_losses.append(val_loss)\n",
    "        val_accuracies.append(val_accuracy)\n",
    "        if scheduler:\n",
    "            scheduler.step() # argument only needed for ReduceLROnPlateau\n",
    "        print('Epoch {}/{}: train_loss: {:.4f}, train_accuracy: {:.4f}, val_loss: {:.4f}, val_accuracy: {:.4f}'.format(epoch+1, n_epochs,\n",
    "                                                                                                          train_losses[-1],\n",
    "                                                                                                          train_accuracies[-1],\n",
    "                                                                                                          val_losses[-1],\n",
    "                                                                                                          val_accuracies[-1]))\n",
    "    \n",
    "    return train_losses, train_accuracies, val_losses, val_accuracies"
   ]
  },
  {
   "cell_type": "code",
   "execution_count": 9,
   "metadata": {},
   "outputs": [],
   "source": [
    "train_loader = torch.utils.data.DataLoader(\n",
    "        datasets.MNIST('./data', train=True, download=True,\n",
    "                       transform=transforms.Compose([\n",
    "                           transforms.ToTensor(),\n",
    "                           transforms.Normalize((0.1307,), (0.3081,))\n",
    "                       ])),\n",
    "        batch_size=100, shuffle=True)\n",
    "test_loader = torch.utils.data.DataLoader(\n",
    "        datasets.MNIST('./data', train=False, transform=transforms.Compose([\n",
    "                           transforms.ToTensor(),\n",
    "                           transforms.Normalize((0.1307,), (0.3081,))\n",
    "                       ])),\n",
    "        batch_size=100, shuffle=True)\n"
   ]
  },
  {
   "cell_type": "code",
   "execution_count": 10,
   "metadata": {},
   "outputs": [
    {
     "name": "stdout",
     "output_type": "stream",
     "text": [
      "torch.Size([100, 1, 28, 28])\n"
     ]
    }
   ],
   "source": [
    "for tensor in train_loader:\n",
    "    print(tensor[0].shape)\n",
    "    break"
   ]
  },
  {
   "cell_type": "code",
   "execution_count": 11,
   "metadata": {},
   "outputs": [],
   "source": [
    "model_mlp = MLPModel(28*28, 128)\n",
    "model_mlp = model_mlp.to(device)\n",
    "learning_rate = 0.001\n",
    "optimizer = torch.optim.Adam(model_mlp.parameters(), lr=learning_rate)\n",
    "n_epochs = 25\n",
    "loss_fn = nn.CrossEntropyLoss()"
   ]
  },
  {
   "cell_type": "code",
   "execution_count": 12,
   "metadata": {},
   "outputs": [
    {
     "name": "stdout",
     "output_type": "stream",
     "text": [
      "Epoch 1/25: train_loss: 0.3037, train_accuracy: 90.9533, val_loss: 0.1428, val_accuracy: 95.4300\n",
      "Epoch 2/25: train_loss: 0.1149, train_accuracy: 96.3850, val_loss: 0.1028, val_accuracy: 96.6800\n",
      "Epoch 3/25: train_loss: 0.0825, train_accuracy: 97.3967, val_loss: 0.0934, val_accuracy: 97.1700\n",
      "Epoch 4/25: train_loss: 0.0636, train_accuracy: 97.9750, val_loss: 0.0888, val_accuracy: 97.1700\n",
      "Epoch 5/25: train_loss: 0.0510, train_accuracy: 98.4000, val_loss: 0.0964, val_accuracy: 97.2700\n",
      "Epoch 6/25: train_loss: 0.0413, train_accuracy: 98.6833, val_loss: 0.0802, val_accuracy: 97.7600\n",
      "Epoch 7/25: train_loss: 0.0349, train_accuracy: 98.8633, val_loss: 0.0843, val_accuracy: 97.6200\n",
      "Epoch 8/25: train_loss: 0.0311, train_accuracy: 98.9400, val_loss: 0.1028, val_accuracy: 97.0400\n",
      "Epoch 9/25: train_loss: 0.0293, train_accuracy: 99.0667, val_loss: 0.0784, val_accuracy: 97.9200\n",
      "Epoch 10/25: train_loss: 0.0231, train_accuracy: 99.2167, val_loss: 0.0965, val_accuracy: 97.6800\n",
      "Epoch 11/25: train_loss: 0.0218, train_accuracy: 99.2733, val_loss: 0.0819, val_accuracy: 97.9600\n",
      "Epoch 12/25: train_loss: 0.0224, train_accuracy: 99.2400, val_loss: 0.0920, val_accuracy: 97.9200\n",
      "Epoch 13/25: train_loss: 0.0193, train_accuracy: 99.3983, val_loss: 0.0804, val_accuracy: 97.8800\n",
      "Epoch 14/25: train_loss: 0.0149, train_accuracy: 99.4800, val_loss: 0.0860, val_accuracy: 98.0100\n",
      "Epoch 15/25: train_loss: 0.0173, train_accuracy: 99.4467, val_loss: 0.1034, val_accuracy: 97.9700\n",
      "Epoch 16/25: train_loss: 0.0180, train_accuracy: 99.4000, val_loss: 0.0918, val_accuracy: 98.0200\n",
      "Epoch 17/25: train_loss: 0.0147, train_accuracy: 99.4917, val_loss: 0.1039, val_accuracy: 97.8700\n",
      "Epoch 18/25: train_loss: 0.0132, train_accuracy: 99.5633, val_loss: 0.1037, val_accuracy: 97.7400\n",
      "Epoch 19/25: train_loss: 0.0144, train_accuracy: 99.5500, val_loss: 0.1089, val_accuracy: 97.8600\n",
      "Epoch 20/25: train_loss: 0.0131, train_accuracy: 99.5983, val_loss: 0.0939, val_accuracy: 98.0900\n",
      "Epoch 21/25: train_loss: 0.0113, train_accuracy: 99.6233, val_loss: 0.0986, val_accuracy: 98.0000\n",
      "Epoch 22/25: train_loss: 0.0116, train_accuracy: 99.6233, val_loss: 0.1390, val_accuracy: 97.2800\n",
      "Epoch 23/25: train_loss: 0.0151, train_accuracy: 99.5183, val_loss: 0.1020, val_accuracy: 97.9700\n",
      "Epoch 24/25: train_loss: 0.0072, train_accuracy: 99.7717, val_loss: 0.1177, val_accuracy: 97.8400\n",
      "Epoch 25/25: train_loss: 0.0117, train_accuracy: 99.6000, val_loss: 0.1101, val_accuracy: 97.8800\n"
     ]
    }
   ],
   "source": [
    "curves_mlp = fit(train_loader, test_loader, model_mlp, optimizer, loss_fn, n_epochs)"
   ]
  },
  {
   "cell_type": "code",
   "execution_count": null,
   "metadata": {},
   "outputs": [],
   "source": []
  }
 ],
 "metadata": {
  "kernelspec": {
   "display_name": "Python 3",
   "language": "python",
   "name": "python3"
  },
  "language_info": {
   "codemirror_mode": {
    "name": "ipython",
    "version": 3
   },
   "file_extension": ".py",
   "mimetype": "text/x-python",
   "name": "python",
   "nbconvert_exporter": "python",
   "pygments_lexer": "ipython3",
   "version": "3.7.1"
  }
 },
 "nbformat": 4,
 "nbformat_minor": 2
}
