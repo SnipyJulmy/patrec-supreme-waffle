{
  "cells": [
    {
      "cell_type": "code",
      "execution_count": 8,
      "metadata": {
        "collapsed": true,
        "pycharm": {
          "is_executing": false
        }
      },
      "outputs": [
        {
          "name": "stdout",
          "text": [
            "Create training dictionnary\n",
            "Number of different words in the training data: 2433\nEnd of creation of the training dictionnary\n",
            "Number of element in the validation dict: 1293\n"
          ],
          "output_type": "stream"
        }
      ],
      "source": "\nimport preprocess, read_data as data\nfrom evaluate_performance import evaluate_performance as evaluate\nfrom dtw import DTW\nimport csv\nimport operator\n\nfrom itertools import islice\n\nredo_preprocess \u003d False\nfolder_unprocessed \u003d \"PatRec17_KWS_Data\"\nlst \u003d [\u0027270\u0027, \u0027271\u0027, \u0027272\u0027, \u0027273\u0027, \u0027274\u0027, \u0027275\u0027, \u0027276\u0027, \u0027277\u0027, \u0027278\u0027, \u0027279\u0027, \u0027300\u0027, \u0027301\u0027, \u0027302\u0027, \u0027303\u0027, \u0027304\u0027]\n\nif redo_preprocess:\n    # Crop images + use OTSU\n    print(\"------------- Preprocess image (crop and OTSU)\")\n    preprocess.svg_to_data(folder_unprocessed, lst)\n    print(\"------------- End of preprocessing\")\n    print(\"-------------\")\n\nprint(\"Create training dictionnary\")\ntraining_dict \u003d data.create_set(\u0027data/train\u0027)\nprint(\"Number of different words in the training data: %d\" % len(training_dict))\nprint(\"End of creation of the training dictionnary\")\n\nkeywords \u003d open(folder_unprocessed + \"/task/keywords.txt\").read().splitlines()\nvalidation_dict \u003d data.create_set(\u0027data/valid\u0027)\ntranscriptions_dict \u003d data.get_transcriptions(folder_unprocessed + \u0027/ground-truth/transcription.txt\u0027)\n\nprint(\"Number of element in the validation dict: %d\" % len(validation_dict))\n"
    },
    {
      "cell_type": "code",
      "execution_count": 17,
      "outputs": [],
      "source": "k \u003d 10\ntotal \u003d 0\nnb_correct \u003d 0\nfor key,image in validation_dict.items():\n    if transcriptions_dict[key] not in keywords:\n        continue\n    dtw_o \u003d DTW(image)\n    scores \u003d {}\n    for key2, image2 in training_dict.items():\n        score \u003d dtw_o.calculate_cost(image2)\n        scores[key2] \u003d score\n    sorted_scores \u003d dict(sorted(scores.items(), key \u003d operator.itemgetter(1))[:k])\n    break\n    ",
      "metadata": {
        "pycharm": {
          "metadata": false,
          "name": "#%%\n",
          "is_executing": false
        }
      }
    },
    {
      "cell_type": "code",
      "execution_count": 16,
      "outputs": [
        {
          "name": "stdout",
          "text": [
            "w-h-e-n\n271-28-05 : 1584.9640099700998 --\u003e m-e-n\n275-07-07 : 1711.016533623717 --\u003e w-h-o\n275-16-03 : 1739.630853974497 --\u003e a-r-e\n275-13-04 : 1750.0071450061137 --\u003e i-n\n275-26-04 : 1757.1697091952456 --\u003e a-n-d\n275-13-06 : 1789.065311341719 --\u003e l-a-s-t\n275-29-04 : 1802.3875383233676 --\u003e m-o-s-t\n275-08-06 : 1861.2745780854373 --\u003e t-a-k-e-n\n275-04-03 : 1862.529845302322 --\u003e m-e-n\n272-29-01 : 1869.816459089802 --\u003e s-e-e\n275-14-02 : 1901.6493942824316 --\u003e a-r-e\n276-34-04 : 1923.7065953742745 --\u003e i-s\n274-21-07 : 1949.8588097200604 --\u003e e-n-g-a-g-e\n279-07-01 : 1976.528126117883 --\u003e m-e-r-s-s_cm\n275-07-08 : 1989.0955283637522 --\u003e a-r-e\n272-12-07 : 1996.496047925267 --\u003e s-e-n-t\n277-13-02 : 2000.8930881770673 --\u003e s-e-e\n277-10-04 : 2002.6394754512446 --\u003e t-h-a-t\n273-31-04 : 2002.6900073188947 --\u003e s-o-m-e\n275-06-04 : 2004.2479163057685 --\u003e a-r-e\n"
          ],
          "output_type": "stream"
        }
      ],
      "source": "\nprint(transcriptions_dict[key])\nfor k,v in sorted_scores.items():\n    print(\"%s : %s --\u003e %s\" % (k,v,transcriptions_dict[k]))",
      "metadata": {
        "pycharm": {
          "metadata": false,
          "name": "#%%\n",
          "is_executing": false
        }
      }
    }
  ],
  "metadata": {
    "language_info": {
      "codemirror_mode": {
        "name": "ipython",
        "version": 2
      },
      "file_extension": ".py",
      "mimetype": "text/x-python",
      "name": "python",
      "nbconvert_exporter": "python",
      "pygments_lexer": "ipython2",
      "version": "2.7.6"
    },
    "kernelspec": {
      "name": "python3",
      "language": "python",
      "display_name": "Python 3"
    }
  },
  "nbformat": 4,
  "nbformat_minor": 0
}