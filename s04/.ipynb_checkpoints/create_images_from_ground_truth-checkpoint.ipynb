{
 "cells": [
  {
   "cell_type": "code",
   "execution_count": 42,
   "metadata": {},
   "outputs": [],
   "source": [
    "# if using conda, conda install -c conda-forge opencv\n",
    "import cv2\n",
    "from xml.dom import minidom\n",
    "import re\n",
    "import os\n",
    "folder = \"PatRec17_KWS_Data\""
   ]
  },
  {
   "cell_type": "code",
   "execution_count": 45,
   "metadata": {},
   "outputs": [],
   "source": [
    "def svg_to_img():\n",
    "    lst = ['270','271','272','273','274','275','276','277','278','279','300','301','302','303','304']\n",
    "    for img in lst:\n",
    "        dest_path = \"data/\"+img\n",
    "        if not os.path.exists(dest_path):\n",
    "            os.makedirs(dest_path)\n",
    "        doc = minidom.parse(folder + \"/ground-truth/locations/\"+img+\".svg\")  # parseString also exists\n",
    "        path_strings = [path.getAttribute('d') for path\n",
    "                        in doc.getElementsByTagName('path')]\n",
    "        doc.unlink()\n",
    "        i = 0\n",
    "        for path in path_strings:\n",
    "            wordList = re.sub(\" \", \" \",  path).split()\n",
    "            x = list(map(float,wordList[2::3]))\n",
    "            y = list(map(float,wordList[1::3]))\n",
    "            img2 = cv2.imread(folder + \"/images/\"+img+\".jpg\")\n",
    "            crop_img = img2[round(min(x)):round(max(x)), round(min(y)):round(max(y))]\n",
    "            cv2.imwrite(os.path.join(dest_path , str(i)+'.jpg'), crop_img)\n",
    "            i = i + 1"
   ]
  },
  {
   "cell_type": "code",
   "execution_count": 46,
   "metadata": {},
   "outputs": [],
   "source": [
    "svg_to_img()"
   ]
  },
  {
   "cell_type": "code",
   "execution_count": 7,
   "metadata": {},
   "outputs": [
    {
     "data": {
      "text/plain": [
       "-1"
      ]
     },
     "execution_count": 7,
     "metadata": {},
     "output_type": "execute_result"
    }
   ],
   "source": [
    "cv2.startWindowThread()\n",
    "img = cv2.imread(folder + \"/images/270.jpg\")\n",
    "crop_img = img[148:238, 112:300]\n",
    "cv2.namedWindow(\"preview\")\n",
    "cv2.imshow(\"preview\", crop_img)\n",
    "cv2.waitKey()"
   ]
  }
 ],
 "metadata": {
  "kernelspec": {
   "display_name": "Python 3",
   "language": "python",
   "name": "python3"
  },
  "language_info": {
   "codemirror_mode": {
    "name": "ipython",
    "version": 3
   },
   "file_extension": ".py",
   "mimetype": "text/x-python",
   "name": "python",
   "nbconvert_exporter": "python",
   "pygments_lexer": "ipython3",
   "version": "3.7.1"
  }
 },
 "nbformat": 4,
 "nbformat_minor": 2
}
