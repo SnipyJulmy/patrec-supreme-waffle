{
 "cells": [
  {
   "cell_type": "code",
   "execution_count": 9,
   "metadata": {},
   "outputs": [],
   "source": [
    "import read_data as data\n",
    "import features\n",
    "import numpy as np\n",
    "folder_unprocessed = \"PatRec17_KWS_Data\""
   ]
  },
  {
   "cell_type": "code",
   "execution_count": 10,
   "metadata": {},
   "outputs": [],
   "source": [
    "training_dict = data.create_training_set('data/train',\n",
    "                                         folder_unprocessed+'/ground-truth/transcription.txt',\n",
    "                                         folder_unprocessed+'/task/train.txt')"
   ]
  },
  {
   "cell_type": "code",
   "execution_count": 81,
   "metadata": {},
   "outputs": [],
   "source": [
    "from scipy.spatial.distance import euclidean\n",
    "from fastdtw import fastdtw\n",
    "import numpy as np\n",
    "class DTW():\n",
    "    def __init__(self, images):\n",
    "        self.images = images\n",
    "        self.images_features = features.calculate_features(self.images)\n",
    "        self.diagonal_margin = 50\n",
    "    def calculate_cost(self, image_to_compare):\n",
    "        features_compare = np.array(features.calculate_image_features(image_to_compare))\n",
    "        score = 0\n",
    "        for i in range(len(self.images)):\n",
    "            current_vector = np.array(self.images_features[i])\n",
    "            distance, path = fastdtw(current_vector, features_compare, dist=euclidean)\n",
    "            score += distance\n",
    "            print(distance)\n",
    "        return score / len(self.images)\n",
    "            "
   ]
  },
  {
   "cell_type": "code",
   "execution_count": 82,
   "metadata": {},
   "outputs": [],
   "source": [
    "dtw = DTW(training_dict['O-r-d-e-r-s'])"
   ]
  },
  {
   "cell_type": "code",
   "execution_count": 83,
   "metadata": {},
   "outputs": [
    {
     "name": "stdout",
     "output_type": "stream",
     "text": [
      "15780.907005720921\n",
      "18311.47377684141\n",
      "14353.194655785479\n",
      "13247.925995718771\n",
      "14495.668975714792\n",
      "14281.41752835617\n",
      "17625.57180832573\n",
      "14819.808380501856\n",
      "12595.588979245906\n",
      "17206.621936559637\n",
      "12894.943277730748\n",
      "17091.366796622922\n",
      "14393.216914598557\n",
      "13624.588582361206\n"
     ]
    },
    {
     "data": {
      "text/plain": [
       "15051.592472434582"
      ]
     },
     "execution_count": 83,
     "metadata": {},
     "output_type": "execute_result"
    }
   ],
   "source": [
    "dtw.calculate_cost(training_dict['a-n-d'][0])"
   ]
  },
  {
   "cell_type": "code",
   "execution_count": 84,
   "metadata": {},
   "outputs": [
    {
     "name": "stdout",
     "output_type": "stream",
     "text": [
      "2530.9794395096224\n",
      "5214.831838221453\n",
      "7030.305751954818\n",
      "6864.96622603253\n",
      "5356.599628566446\n",
      "4985.340660878454\n",
      "7982.803493294116\n",
      "5156.168684396247\n",
      "7774.349045555424\n",
      "6421.884976732545\n",
      "6601.509287977652\n",
      "8304.013484696305\n",
      "6348.32362291287\n",
      "7247.633720058713\n"
     ]
    },
    {
     "data": {
      "text/plain": [
       "6272.836418627657"
      ]
     },
     "execution_count": 84,
     "metadata": {},
     "output_type": "execute_result"
    }
   ],
   "source": [
    "dtw.calculate_cost(training_dict['O-r-d-e-r-s'][0])"
   ]
  },
  {
   "cell_type": "code",
   "execution_count": null,
   "metadata": {},
   "outputs": [],
   "source": []
  }
 ],
 "metadata": {
  "kernelspec": {
   "display_name": "Python 3",
   "language": "python",
   "name": "python3"
  },
  "language_info": {
   "codemirror_mode": {
    "name": "ipython",
    "version": 3
   },
   "file_extension": ".py",
   "mimetype": "text/x-python",
   "name": "python",
   "nbconvert_exporter": "python",
   "pygments_lexer": "ipython3",
   "version": "3.7.1"
  }
 },
 "nbformat": 4,
 "nbformat_minor": 2
}
