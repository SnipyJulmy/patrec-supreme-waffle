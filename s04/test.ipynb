{
  "cells": [
    {
      "cell_type": "code",
      "execution_count": 1,
      "metadata": {
        "pycharm": {}
      },
      "outputs": [],
      "source": [
        "folder_unprocessed \u003d \"PatRec17_KWS_Data\"\n",
        "keyword \u003d open(folder_unprocessed + \"/task/keywords.txt\").read().splitlines()"
      ]
    },
    {
      "cell_type": "code",
      "execution_count": 2,
      "metadata": {
        "pycharm": {}
      },
      "outputs": [],
      "source": [
        "import read_data as data"
      ]
    },
    {
      "cell_type": "code",
      "execution_count": 3,
      "metadata": {
        "pycharm": {}
      },
      "outputs": [],
      "source": "training_dict \u003d data.create_training_set(\u0027data/train\u0027,\n                                         folder_unprocessed+\u0027/ground-truth/transcription.txt\u0027,\n                                         folder_unprocessed+\u0027/task/train.txt\u0027)"
    },
    {
      "cell_type": "code",
      "execution_count": 4,
      "metadata": {
        "pycharm": {}
      },
      "outputs": [],
      "source": [
        "transcriptions_dict \u003d data.get_transcriptions(folder_unprocessed+\u0027/ground-truth/transcription.txt\u0027)"
      ]
    },
    {
      "cell_type": "code",
      "execution_count": 5,
      "metadata": {
        "pycharm": {}
      },
      "outputs": [],
      "source": [
        "validation_dict \u003d data.create_validation_set(\u0027data/valid\u0027)"
      ]
    },
    {
      "cell_type": "code",
      "execution_count": 12,
      "metadata": {
        "pycharm": {}
      },
      "outputs": [
        {
          "name": "stdout",
          "output_type": "stream",
          "text": [
            "1293\n"
          ]
        }
      ],
      "source": [
        "print(len(validation_dict))"
      ]
    },
    {
      "cell_type": "code",
      "execution_count": 25,
      "metadata": {
        "pycharm": {}
      },
      "outputs": [
        {
          "name": "stdout",
          "output_type": "stream",
          "text": [
            "100\n",
            "200\n",
            "300\n",
            "400\n",
            "500\n",
            "600\n",
            "700\n",
            "800\n",
            "900\n",
            "1000\n",
            "1100\n",
            "1200\n"
          ]
        }
      ],
      "source": [
        "from dtw import DTW\n",
        "import numpy as np\n",
        "import csv\n",
        "import operator\n",
        "output_lines \u003d []\n",
        "for word in keyword:\n",
        "    dtw_o \u003d DTW(training_dict[word])\n",
        "    best_score \u003d np.inf\n",
        "    best_image \u003d None\n",
        "    i \u003d 0\n",
        "    output_line \u003d [word]\n",
        "    score_dict \u003d {}\n",
        "    for key,image in validation_dict.items():\n",
        "        score \u003d dtw_o.calculate_cost(image)\n",
        "        score_dict[key] \u003d score\n",
        "        i +\u003d 1\n",
        "        if i%100 \u003d\u003d 0:\n",
        "            print(i)\n",
        "    sorted_score \u003d dict(sorted(score_dict.items(), key\u003doperator.itemgetter(1)))\n",
        "    for key,score in sorted_score.items():\n",
        "        output_line.append(key)\n",
        "        output_line.append(score)\n",
        "    output_lines.append(output_line)\n",
        "    break\n",
        "with open(\"output.csv\", \"w\") as f:\n",
        "    writer \u003d csv.writer(f)\n",
        "    writer.writerows(output_lines)"
      ]
    },
    {
      "cell_type": "code",
      "execution_count": 20,
      "metadata": {
        "pycharm": {}
      },
      "outputs": [],
      "source": [
        "import operator\n",
        "x \u003d {1: 2, 3: 4, 4: 3, 2: 1, 0: 0}\n",
        "sorted_x \u003d dict(sorted(x.items(), key\u003doperator.itemgetter(1)))"
      ]
    },
    {
      "cell_type": "code",
      "execution_count": 21,
      "metadata": {
        "pycharm": {}
      },
      "outputs": [
        {
          "name": "stdout",
          "output_type": "stream",
          "text": [
            "{0: 0, 2: 1, 1: 2, 4: 3, 3: 4}\n"
          ]
        }
      ],
      "source": [
        "print(sorted_x)"
      ]
    },
    {
      "cell_type": "code",
      "execution_count": null,
      "metadata": {
        "pycharm": {}
      },
      "outputs": [],
      "source": []
    }
  ],
  "metadata": {
    "kernelspec": {
      "display_name": "Python 3",
      "language": "python",
      "name": "python3"
    },
    "language_info": {
      "codemirror_mode": {
        "name": "ipython",
        "version": 3
      },
      "file_extension": ".py",
      "mimetype": "text/x-python",
      "name": "python",
      "nbconvert_exporter": "python",
      "pygments_lexer": "ipython3",
      "version": "3.7.1"
    }
  },
  "nbformat": 4,
  "nbformat_minor": 2
}